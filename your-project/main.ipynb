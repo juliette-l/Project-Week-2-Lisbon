{
 "cells": [
  {
   "cell_type": "code",
   "execution_count": 1,
   "metadata": {},
   "outputs": [],
   "source": [
    "import pandas as pd\n",
    "import numpy as np"
   ]
  },
  {
   "cell_type": "code",
   "execution_count": 2,
   "metadata": {},
   "outputs": [],
   "source": [
    "# RENT PRICES DATABASE"
   ]
  },
  {
   "cell_type": "code",
   "execution_count": 3,
   "metadata": {},
   "outputs": [],
   "source": [
    "df_rent=pd.read_csv(\"../datasets/2017_lloguer_preu_trim.csv\")"
   ]
  },
  {
   "cell_type": "code",
   "execution_count": 4,
   "metadata": {},
   "outputs": [],
   "source": [
    "df_rent_colnames= [\"Year\",\"Trimester\",\"District Code\",\"District\",\"Neighborhood Code\",\n",
    "                   \"Neighborhood\",\"Average Rent\", \"Price\"]\n",
    "df_rent.columns=df_rent_colnames\n",
    "df_rent[\"Average Rent\"]=df_rent[\"Average Rent\"].replace(\"Lloguer mitjà mensual (Euros/mes)\",\"Euros per month\")\n",
    "df_rent[\"Average Rent\"]=df_rent[\"Average Rent\"].replace(\"Lloguer mitjà per superfície (Euros/m2 mes)\",\"Euros/m2 per month\")"
   ]
  },
  {
   "cell_type": "code",
   "execution_count": 5,
   "metadata": {},
   "outputs": [],
   "source": [
    "df_rent=df_rent.groupby([\"District\",\"Neighborhood\",\"Average Rent\"],as_index=False).agg({\"Price\":\"mean\"})"
   ]
  },
  {
   "cell_type": "code",
   "execution_count": 6,
   "metadata": {},
   "outputs": [],
   "source": [
    "df_rent = df_rent.groupby([\"District\",\"Neighborhood\",'Average Rent'])['Price'].mean().unstack()"
   ]
  },
  {
   "cell_type": "code",
   "execution_count": 8,
   "metadata": {},
   "outputs": [],
   "source": [
    "df_rent = df_rent.reset_index()"
   ]
  },
  {
   "cell_type": "code",
   "execution_count": 9,
   "metadata": {},
   "outputs": [
    {
     "data": {
      "text/html": [
       "<div>\n",
       "<style scoped>\n",
       "    .dataframe tbody tr th:only-of-type {\n",
       "        vertical-align: middle;\n",
       "    }\n",
       "\n",
       "    .dataframe tbody tr th {\n",
       "        vertical-align: top;\n",
       "    }\n",
       "\n",
       "    .dataframe thead th {\n",
       "        text-align: right;\n",
       "    }\n",
       "</style>\n",
       "<table border=\"1\" class=\"dataframe\">\n",
       "  <thead>\n",
       "    <tr style=\"text-align: right;\">\n",
       "      <th>Average Rent</th>\n",
       "      <th>index</th>\n",
       "      <th>District</th>\n",
       "      <th>Neighborhood</th>\n",
       "      <th>Euros per month</th>\n",
       "      <th>Euros/m2 per month</th>\n",
       "    </tr>\n",
       "  </thead>\n",
       "  <tbody>\n",
       "    <tr>\n",
       "      <th>0</th>\n",
       "      <td>0</td>\n",
       "      <td>Ciutat Vella</td>\n",
       "      <td>Sant Pere, Santa Caterina i la Ribera</td>\n",
       "      <td>916.8375</td>\n",
       "      <td>15.7050</td>\n",
       "    </tr>\n",
       "    <tr>\n",
       "      <th>1</th>\n",
       "      <td>1</td>\n",
       "      <td>Ciutat Vella</td>\n",
       "      <td>el Barri Gòtic</td>\n",
       "      <td>973.7675</td>\n",
       "      <td>14.1900</td>\n",
       "    </tr>\n",
       "    <tr>\n",
       "      <th>2</th>\n",
       "      <td>2</td>\n",
       "      <td>Ciutat Vella</td>\n",
       "      <td>el Raval</td>\n",
       "      <td>747.7150</td>\n",
       "      <td>13.8950</td>\n",
       "    </tr>\n",
       "    <tr>\n",
       "      <th>3</th>\n",
       "      <td>3</td>\n",
       "      <td>Ciutat Vella</td>\n",
       "      <td>la Barceloneta</td>\n",
       "      <td>746.3100</td>\n",
       "      <td>19.8450</td>\n",
       "    </tr>\n",
       "    <tr>\n",
       "      <th>4</th>\n",
       "      <td>4</td>\n",
       "      <td>Eixample</td>\n",
       "      <td>Sant Antoni</td>\n",
       "      <td>898.2600</td>\n",
       "      <td>12.9475</td>\n",
       "    </tr>\n",
       "    <tr>\n",
       "      <th>...</th>\n",
       "      <td>...</td>\n",
       "      <td>...</td>\n",
       "      <td>...</td>\n",
       "      <td>...</td>\n",
       "      <td>...</td>\n",
       "    </tr>\n",
       "    <tr>\n",
       "      <th>68</th>\n",
       "      <td>68</td>\n",
       "      <td>Sarrià-Sant Gervasi</td>\n",
       "      <td>Sant Gervasi - la Bonanova</td>\n",
       "      <td>1235.2425</td>\n",
       "      <td>15.3175</td>\n",
       "    </tr>\n",
       "    <tr>\n",
       "      <th>69</th>\n",
       "      <td>69</td>\n",
       "      <td>Sarrià-Sant Gervasi</td>\n",
       "      <td>Sarrià</td>\n",
       "      <td>1353.5350</td>\n",
       "      <td>17.4475</td>\n",
       "    </tr>\n",
       "    <tr>\n",
       "      <th>70</th>\n",
       "      <td>70</td>\n",
       "      <td>Sarrià-Sant Gervasi</td>\n",
       "      <td>Vallvidrera, el Tibidabo i les Planes</td>\n",
       "      <td>1231.0100</td>\n",
       "      <td>16.6600</td>\n",
       "    </tr>\n",
       "    <tr>\n",
       "      <th>71</th>\n",
       "      <td>71</td>\n",
       "      <td>Sarrià-Sant Gervasi</td>\n",
       "      <td>el Putxet i el Farró</td>\n",
       "      <td>929.1200</td>\n",
       "      <td>14.8225</td>\n",
       "    </tr>\n",
       "    <tr>\n",
       "      <th>72</th>\n",
       "      <td>72</td>\n",
       "      <td>Sarrià-Sant Gervasi</td>\n",
       "      <td>les Tres Torres</td>\n",
       "      <td>1627.2025</td>\n",
       "      <td>16.8325</td>\n",
       "    </tr>\n",
       "  </tbody>\n",
       "</table>\n",
       "<p>73 rows × 5 columns</p>\n",
       "</div>"
      ],
      "text/plain": [
       "Average Rent  index             District  \\\n",
       "0                 0         Ciutat Vella   \n",
       "1                 1         Ciutat Vella   \n",
       "2                 2         Ciutat Vella   \n",
       "3                 3         Ciutat Vella   \n",
       "4                 4             Eixample   \n",
       "..              ...                  ...   \n",
       "68               68  Sarrià-Sant Gervasi   \n",
       "69               69  Sarrià-Sant Gervasi   \n",
       "70               70  Sarrià-Sant Gervasi   \n",
       "71               71  Sarrià-Sant Gervasi   \n",
       "72               72  Sarrià-Sant Gervasi   \n",
       "\n",
       "Average Rent                           Neighborhood  Euros per month  \\\n",
       "0             Sant Pere, Santa Caterina i la Ribera         916.8375   \n",
       "1                                    el Barri Gòtic         973.7675   \n",
       "2                                          el Raval         747.7150   \n",
       "3                                    la Barceloneta         746.3100   \n",
       "4                                       Sant Antoni         898.2600   \n",
       "..                                              ...              ...   \n",
       "68                       Sant Gervasi - la Bonanova        1235.2425   \n",
       "69                                           Sarrià        1353.5350   \n",
       "70            Vallvidrera, el Tibidabo i les Planes        1231.0100   \n",
       "71                             el Putxet i el Farró         929.1200   \n",
       "72                                  les Tres Torres        1627.2025   \n",
       "\n",
       "Average Rent  Euros/m2 per month  \n",
       "0                        15.7050  \n",
       "1                        14.1900  \n",
       "2                        13.8950  \n",
       "3                        19.8450  \n",
       "4                        12.9475  \n",
       "..                           ...  \n",
       "68                       15.3175  \n",
       "69                       17.4475  \n",
       "70                       16.6600  \n",
       "71                       14.8225  \n",
       "72                       16.8325  \n",
       "\n",
       "[73 rows x 5 columns]"
      ]
     },
     "execution_count": 9,
     "metadata": {},
     "output_type": "execute_result"
    }
   ],
   "source": [
    "df_rent"
   ]
  },
  {
   "cell_type": "code",
   "execution_count": 10,
   "metadata": {},
   "outputs": [],
   "source": [
    "df_rent=df_rent.drop([\"index\",'Neighborhood', 'Euros per month'],axis=1)"
   ]
  },
  {
   "cell_type": "code",
   "execution_count": 11,
   "metadata": {},
   "outputs": [
    {
     "data": {
      "text/html": [
       "<div>\n",
       "<style scoped>\n",
       "    .dataframe tbody tr th:only-of-type {\n",
       "        vertical-align: middle;\n",
       "    }\n",
       "\n",
       "    .dataframe tbody tr th {\n",
       "        vertical-align: top;\n",
       "    }\n",
       "\n",
       "    .dataframe thead th {\n",
       "        text-align: right;\n",
       "    }\n",
       "</style>\n",
       "<table border=\"1\" class=\"dataframe\">\n",
       "  <thead>\n",
       "    <tr style=\"text-align: right;\">\n",
       "      <th>Average Rent</th>\n",
       "      <th>District</th>\n",
       "      <th>Euros/m2 per month</th>\n",
       "    </tr>\n",
       "  </thead>\n",
       "  <tbody>\n",
       "    <tr>\n",
       "      <th>0</th>\n",
       "      <td>Ciutat Vella</td>\n",
       "      <td>15.7050</td>\n",
       "    </tr>\n",
       "    <tr>\n",
       "      <th>1</th>\n",
       "      <td>Ciutat Vella</td>\n",
       "      <td>14.1900</td>\n",
       "    </tr>\n",
       "    <tr>\n",
       "      <th>2</th>\n",
       "      <td>Ciutat Vella</td>\n",
       "      <td>13.8950</td>\n",
       "    </tr>\n",
       "    <tr>\n",
       "      <th>3</th>\n",
       "      <td>Ciutat Vella</td>\n",
       "      <td>19.8450</td>\n",
       "    </tr>\n",
       "    <tr>\n",
       "      <th>4</th>\n",
       "      <td>Eixample</td>\n",
       "      <td>12.9475</td>\n",
       "    </tr>\n",
       "    <tr>\n",
       "      <th>...</th>\n",
       "      <td>...</td>\n",
       "      <td>...</td>\n",
       "    </tr>\n",
       "    <tr>\n",
       "      <th>68</th>\n",
       "      <td>Sarrià-Sant Gervasi</td>\n",
       "      <td>15.3175</td>\n",
       "    </tr>\n",
       "    <tr>\n",
       "      <th>69</th>\n",
       "      <td>Sarrià-Sant Gervasi</td>\n",
       "      <td>17.4475</td>\n",
       "    </tr>\n",
       "    <tr>\n",
       "      <th>70</th>\n",
       "      <td>Sarrià-Sant Gervasi</td>\n",
       "      <td>16.6600</td>\n",
       "    </tr>\n",
       "    <tr>\n",
       "      <th>71</th>\n",
       "      <td>Sarrià-Sant Gervasi</td>\n",
       "      <td>14.8225</td>\n",
       "    </tr>\n",
       "    <tr>\n",
       "      <th>72</th>\n",
       "      <td>Sarrià-Sant Gervasi</td>\n",
       "      <td>16.8325</td>\n",
       "    </tr>\n",
       "  </tbody>\n",
       "</table>\n",
       "<p>73 rows × 2 columns</p>\n",
       "</div>"
      ],
      "text/plain": [
       "Average Rent             District  Euros/m2 per month\n",
       "0                    Ciutat Vella             15.7050\n",
       "1                    Ciutat Vella             14.1900\n",
       "2                    Ciutat Vella             13.8950\n",
       "3                    Ciutat Vella             19.8450\n",
       "4                        Eixample             12.9475\n",
       "..                            ...                 ...\n",
       "68            Sarrià-Sant Gervasi             15.3175\n",
       "69            Sarrià-Sant Gervasi             17.4475\n",
       "70            Sarrià-Sant Gervasi             16.6600\n",
       "71            Sarrià-Sant Gervasi             14.8225\n",
       "72            Sarrià-Sant Gervasi             16.8325\n",
       "\n",
       "[73 rows x 2 columns]"
      ]
     },
     "execution_count": 11,
     "metadata": {},
     "output_type": "execute_result"
    }
   ],
   "source": [
    "df_rent"
   ]
  },
  {
   "cell_type": "code",
   "execution_count": null,
   "metadata": {},
   "outputs": [],
   "source": [
    "# GENDER AND POPULATION DATABASE"
   ]
  },
  {
   "cell_type": "code",
   "execution_count": null,
   "metadata": {},
   "outputs": [],
   "source": [
    "#importing csv\n",
    "df_gender_colnames = [\"Year\", \"District code\", \"District name\", \"Neighbourhood code\", \"Neighbourhood name\", \"Gender\", \"Number immigrants\"]\n",
    "df_gender = pd.read_csv(\"../datasets/2017_immigrants_sexe.csv\", names=df_gender_colnames, header=0)"
   ]
  },
  {
   "cell_type": "code",
   "execution_count": null,
   "metadata": {},
   "outputs": [],
   "source": [
    "#drop unnecessary columns\n",
    "cols_to_drop = [\"Year\", \"District code\", \"Neighbourhood code\"]\n",
    "df_gender2 = df_gender.drop(cols_to_drop, axis=1)\n",
    "#df_gender\n",
    "#deleting duplicate records\n",
    "df_gender.drop_duplicates()"
   ]
  },
  {
   "cell_type": "code",
   "execution_count": null,
   "metadata": {},
   "outputs": [],
   "source": [
    "#rename gender/ensure names are uniform\n",
    "df_gender2[\"Gender\"].value_counts()"
   ]
  },
  {
   "cell_type": "code",
   "execution_count": null,
   "metadata": {},
   "outputs": [],
   "source": [
    "df_gender2[\"Gender\"] = np.where((df_gender2[\"Gender\"]==\"Homes\"), \"Male\", \"Female\")\n",
    "df_gender2"
   ]
  },
  {
   "cell_type": "code",
   "execution_count": null,
   "metadata": {},
   "outputs": [],
   "source": [
    "df_gender3 = pd.pivot_table(df_gender2, index=\"Neighbourhood name\", columns=\"Gender\", values=\"Number immigrants\")"
   ]
  },
  {
   "cell_type": "code",
   "execution_count": null,
   "metadata": {},
   "outputs": [],
   "source": [
    "df_gender_last = pd.merge(df_gender2[[\"District name\", \"Neighbourhood name\"]], df_gender3, on=\"Neighbourhood name\")\n",
    "\n",
    "df_gender_last.rename(columns={\"Female\":\"Female immigrants\", \"Male\":\"Male immigrants\"})"
   ]
  },
  {
   "cell_type": "code",
   "execution_count": null,
   "metadata": {},
   "outputs": [],
   "source": [
    "#importing csv\n",
    "df_pop_colnames = [\"Year\", \"District code\", \"District name\", \"Neighbourhood code\", \"Neighbourhood name\", \"Gender\", \"Age\", \"Number population\"]\n",
    "df_pop = pd.read_csv(\"../datasets/population.csv\", names=df_pop_colnames, header=0)\n",
    "\n",
    "#deleting duplicate records\n",
    "df_pop.drop_duplicates()"
   ]
  },
  {
   "cell_type": "code",
   "execution_count": null,
   "metadata": {},
   "outputs": [],
   "source": [
    "#drop columns\n",
    "cols_to_drop = [\"District code\", \"Neighbourhood code\"]\n",
    "df_pop2 = df_pop.drop(cols_to_drop, axis=1)"
   ]
  },
  {
   "cell_type": "code",
   "execution_count": null,
   "metadata": {},
   "outputs": [],
   "source": [
    "#select records from 2017 only\n",
    "df_pop2 = df_pop2[df_pop2[\"Year\"]==2017]"
   ]
  },
  {
   "cell_type": "code",
   "execution_count": null,
   "metadata": {},
   "outputs": [],
   "source": [
    "#aggregate numbers by neighbourhood and gender, discarding age\n",
    "df_pop3 = df_pop2.groupby([\"District name\", \"Neighbourhood name\", \"Gender\"], as_index=False).agg({\"Number population\":\"sum\"})"
   ]
  },
  {
   "cell_type": "code",
   "execution_count": null,
   "metadata": {},
   "outputs": [],
   "source": [
    "df_pop4 = pd.pivot_table(df_pop3, index=[\"District name\",\"Neighbourhood name\"], columns=\"Gender\", values=\"Number population\")"
   ]
  },
  {
   "cell_type": "code",
   "execution_count": null,
   "metadata": {},
   "outputs": [],
   "source": [
    "df_pop_last = pd.merge(df_pop2[[\"District name\", \"Neighbourhood name\"]], df_pop4, on=\"Neighbourhood name\")\n",
    "df_pop_last=df_pop_last.rename(columns={\"Female\":\"Female total\", \"Male\":\"Male total\"})\n",
    "df_pop_last=df_pop_last.drop_duplicates()\n",
    "df_pop_last"
   ]
  },
  {
   "cell_type": "code",
   "execution_count": null,
   "metadata": {},
   "outputs": [],
   "source": [
    "df_total = pd.merge(df_gender_last, df_pop_last, on=[\"District name\", \"Neighbourhood name\"])\n",
    "df_total = df_total.drop_duplicates()\n",
    "df_total"
   ]
  },
  {
   "cell_type": "code",
   "execution_count": null,
   "metadata": {},
   "outputs": [],
   "source": [
    "# Immigrants by nationality"
   ]
  },
  {
   "cell_type": "code",
   "execution_count": null,
   "metadata": {},
   "outputs": [],
   "source": [
    "immigrants = pd.read_csv(\"../datasets/immigrants_by_nationality.csv\")\n",
    "\n",
    "# Checking out the table\n",
    "immigrants.head()"
   ]
  },
  {
   "cell_type": "code",
   "execution_count": null,
   "metadata": {},
   "outputs": [],
   "source": [
    "# Check out the shape\n",
    "immigrants.shape\n",
    "\n",
    "# The data consists of 35k rows and 7 columns."
   ]
  },
  {
   "cell_type": "code",
   "execution_count": null,
   "metadata": {},
   "outputs": [],
   "source": [
    "# There are no missing values in the immigrants dataset.\n",
    "null_immigrants = immigrants.isnull().sum()\n",
    "\n",
    "print(null_immigrants)"
   ]
  },
  {
   "cell_type": "code",
   "execution_count": null,
   "metadata": {},
   "outputs": [],
   "source": [
    "immigrants.dtypes"
   ]
  },
  {
   "cell_type": "code",
   "execution_count": null,
   "metadata": {},
   "outputs": [],
   "source": [
    "immigrants_2 = immigrants[[\"Nationality\"]]\n",
    "\n",
    "immigrants_2.head()"
   ]
  },
  {
   "cell_type": "code",
   "execution_count": null,
   "metadata": {},
   "outputs": [],
   "source": [
    "# Checking all the Nationalities of the file\n",
    "\n",
    "nationality = immigrants[\"Nationality\"].value_counts()\n",
    "\n",
    "pd.set_option(\"display.max_rows\", 200)\n",
    "print(nationality)"
   ]
  },
  {
   "cell_type": "code",
   "execution_count": null,
   "metadata": {},
   "outputs": [],
   "source": [
    "# Checking the districts in the file\n",
    "immigrants[\"District Name\"].value_counts()"
   ]
  },
  {
   "cell_type": "code",
   "execution_count": null,
   "metadata": {
    "scrolled": true
   },
   "outputs": [],
   "source": [
    "immigrants_2017 = immigrants.drop([\"Year\"], axis=1)\n",
    "immigrants_2017"
   ]
  },
  {
   "cell_type": "code",
   "execution_count": null,
   "metadata": {},
   "outputs": [],
   "source": []
  }
 ],
 "metadata": {
  "kernelspec": {
   "display_name": "Python 3",
   "language": "python",
   "name": "python3"
  },
  "language_info": {
   "codemirror_mode": {
    "name": "ipython",
    "version": 3
   },
   "file_extension": ".py",
   "mimetype": "text/x-python",
   "name": "python",
   "nbconvert_exporter": "python",
   "pygments_lexer": "ipython3",
   "version": "3.7.4"
  }
 },
 "nbformat": 4,
 "nbformat_minor": 2
}
