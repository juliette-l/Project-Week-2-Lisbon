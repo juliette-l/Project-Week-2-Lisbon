{
 "cells": [
  {
   "cell_type": "code",
   "execution_count": 60,
   "metadata": {},
   "outputs": [],
   "source": [
    "import pandas as pd\n",
    "import numpy as np"
   ]
  },
  {
   "cell_type": "code",
   "execution_count": 61,
   "metadata": {},
   "outputs": [],
   "source": [
    "df_rent=pd.read_csv(\"../datasets/2017_lloguer_preu_trim.csv\")"
   ]
  },
  {
   "cell_type": "code",
   "execution_count": 62,
   "metadata": {},
   "outputs": [],
   "source": [
    "df_rent_colnames= [\"Year\",\"Trimester\",\"District Code\",\"District\",\"Neighborhood Code\",\n",
    "                   \"Neighborhood\",\"Average Rent\", \"Price\"]\n",
    "df_rent.columns=df_rent_colnames\n",
    "df_rent[\"Average Rent\"]=df_rent[\"Average Rent\"].replace(\"Lloguer mitjà mensual (Euros/mes)\",\"Euros per month\")\n",
    "df_rent[\"Average Rent\"]=df_rent[\"Average Rent\"].replace(\"Lloguer mitjà per superfície (Euros/m2 mes)\",\"Euros/m2 per month\")"
   ]
  },
  {
   "cell_type": "code",
   "execution_count": 63,
   "metadata": {},
   "outputs": [],
   "source": [
    "df_rent=df_rent.groupby([\"District\",\"Neighborhood\",\"Average Rent\"],as_index=False).agg({\"Price\":\"mean\"})"
   ]
  },
  {
   "cell_type": "code",
   "execution_count": 65,
   "metadata": {},
   "outputs": [],
   "source": [
    "df_rent = df_rent.groupby([\"District\",\"Neighborhood\",'Average Rent'])['Price'].mean().unstack()"
   ]
  },
  {
   "cell_type": "code",
   "execution_count": 67,
   "metadata": {},
   "outputs": [],
   "source": [
    "df_rent=df_rent.reset_index()"
   ]
  }
 ],
 "metadata": {
  "kernelspec": {
   "display_name": "Python 3",
   "language": "python",
   "name": "python3"
  },
  "language_info": {
   "codemirror_mode": {
    "name": "ipython",
    "version": 3
   },
   "file_extension": ".py",
   "mimetype": "text/x-python",
   "name": "python",
   "nbconvert_exporter": "python",
   "pygments_lexer": "ipython3",
   "version": "3.7.4"
  }
 },
 "nbformat": 4,
 "nbformat_minor": 2
}
